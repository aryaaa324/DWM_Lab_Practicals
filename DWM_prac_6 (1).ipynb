{
 "cells": [
  {
   "cell_type": "code",
   "execution_count": 2,
   "id": "e7b97901-6738-4f96-acba-bf8dffa3c4f3",
   "metadata": {},
   "outputs": [],
   "source": [
    "import pandas as pd"
   ]
  },
  {
   "cell_type": "code",
   "execution_count": 3,
   "id": "1edccf5f-ff3d-4489-b317-bae573844b8c",
   "metadata": {},
   "outputs": [],
   "source": [
    "data={\n",
    "    'ID' : [1,2,3,4,5,6],\n",
    "    'Name' : ['Arya' , 'Aditya', 'Deepak', 'Tirthak', 'Riya', 'Vishakha'],\n",
    "    'Age': [21,20,22,19,18,23],\n",
    "    'Country':['UK', 'India' ,' USA', 'Australia', 'Canada', 'UK'],\n",
    "    'Sales' : [200, 400, 300, 800, 150, 350]\n",
    "}\n"
   ]
  },
  {
   "cell_type": "code",
   "execution_count": 5,
   "id": "0ac07804-3d51-425b-a9ce-7e52fc3d97f9",
   "metadata": {},
   "outputs": [
    {
     "name": "stdout",
     "output_type": "stream",
     "text": [
      "Original Dataset:\n",
      "   ID      Name  Age    Country  Sales\n",
      "0   1      Arya   21         UK    200\n",
      "1   2    Aditya   20      India    400\n",
      "2   3    Deepak   22        USA    300\n",
      "3   4   Tirthak   19  Australia    800\n",
      "4   5      Riya   18     Canada    150\n",
      "5   6  Vishakha   23         UK    350\n"
     ]
    }
   ],
   "source": [
    "df= pd.DataFrame(data)\n",
    "print(\"Original Dataset:\")\n",
    "print(df)"
   ]
  },
  {
   "cell_type": "code",
   "execution_count": 6,
   "id": "4229cc16-2e10-4139-b53c-2b1372043a17",
   "metadata": {},
   "outputs": [],
   "source": [
    "#Data Flow Transformations"
   ]
  },
  {
   "cell_type": "code",
   "execution_count": 12,
   "id": "b2c1a42f-7d49-4b9c-83c6-a6e1a6e29a63",
   "metadata": {},
   "outputs": [
    {
     "name": "stdout",
     "output_type": "stream",
     "text": [
      "\\nCharacter Map (Uppercase Names):\n",
      "   ID      Name Name_Upper\n",
      "0   1      Arya       ARYA\n",
      "1   2    Aditya     ADITYA\n",
      "2   3    Deepak     DEEPAK\n",
      "3   4   Tirthak    TIRTHAK\n",
      "4   5      Riya       RIYA\n",
      "5   6  Vishakha   VISHAKHA\n"
     ]
    }
   ],
   "source": [
    "df['Name_Upper'] = df['Name'].str.upper()\n",
    "print(\"\\\\nCharacter Map (Uppercase Names):\")\n",
    "print(df[['ID','Name','Name_Upper']])\n"
   ]
  },
  {
   "cell_type": "code",
   "execution_count": 13,
   "id": "742dd09e-526c-4c82-a25f-b04c9f243f86",
   "metadata": {},
   "outputs": [
    {
     "name": "stdout",
     "output_type": "stream",
     "text": [
      "\n",
      "Multicast (Modified Copies):\n",
      "Copy 1 (Sales Increased):\n",
      "   ID      Name  Age    Country  Sales Name_Upper\n",
      "0   1      Arya   21         UK  220.0       ARYA\n",
      "1   2    Aditya   20      India  440.0     ADITYA\n",
      "2   3    Deepak   22        USA  330.0     DEEPAK\n",
      "3   4   Tirthak   19  Australia  880.0    TIRTHAK\n",
      "4   5      Riya   18     Canada  165.0       RIYA\n",
      "5   6  Vishakha   23         UK  385.0   VISHAKHA\n",
      "\n",
      "Copy 2 (Age Increased):\n",
      "   ID      Name  Age    Country  Sales Name_Upper\n",
      "0   1      Arya   26         UK    200       ARYA\n",
      "1   2    Aditya   25      India    400     ADITYA\n",
      "2   3    Deepak   27        USA    300     DEEPAK\n",
      "3   4   Tirthak   24  Australia    800    TIRTHAK\n",
      "4   5      Riya   23     Canada    150       RIYA\n",
      "5   6  Vishakha   28         UK    350   VISHAKHA\n"
     ]
    }
   ],
   "source": [
    "df_copy1 = df.copy()\n",
    "df_copy2 = df.copy()\n",
    "\n",
    "df_copy1['Sales']*=1.1\n",
    "df_copy2['Age'] +=5\n",
    "\n",
    "print(\"\\nMulticast (Modified Copies):\")\n",
    "print(\"Copy 1 (Sales Increased):\")\n",
    "print(df_copy1)\n",
    "print(\"\\nCopy 2 (Age Increased):\")\n",
    "print(df_copy2)"
   ]
  },
  {
   "cell_type": "code",
   "execution_count": 14,
   "id": "fee58779-121c-41c8-85e2-bccee7a7a793",
   "metadata": {},
   "outputs": [
    {
     "name": "stdout",
     "output_type": "stream",
     "text": [
      "\n",
      "Conditinal Split:\n",
      "High Sales:\n",
      "   ID     Name  Age    Country  Sales Name_Upper\n",
      "1   2   Aditya   20      India    400     ADITYA\n",
      "3   4  Tirthak   19  Australia    800    TIRTHAK\n",
      "\n",
      "Low Sales:\n",
      "   ID      Name  Age Country  Sales Name_Upper\n",
      "0   1      Arya   21      UK    200       ARYA\n",
      "2   3    Deepak   22     USA    300     DEEPAK\n",
      "4   5      Riya   18  Canada    150       RIYA\n",
      "5   6  Vishakha   23      UK    350   VISHAKHA\n"
     ]
    }
   ],
   "source": [
    "#Conditional Split : Sales>350\n",
    "high_sales = df[df['Sales']>350]\n",
    "low_sales = df[df['Sales']<=350]\n",
    "print(\"\\nConditinal Split:\")\n",
    "print(\"High Sales:\")\n",
    "print(high_sales)\n",
    "print(\"\\nLow Sales:\")\n",
    "print(low_sales)"
   ]
  },
  {
   "cell_type": "code",
   "execution_count": 15,
   "id": "65b49658-26c3-4175-8dec-49f540f5c380",
   "metadata": {},
   "outputs": [
    {
     "name": "stdout",
     "output_type": "stream",
     "text": [
      "\n",
      "Aggregation (Total Sales by Country): \n",
      "     Country  Sales\n",
      "0        USA    300\n",
      "1  Australia    800\n",
      "2     Canada    150\n",
      "3      India    400\n",
      "4         UK    550\n"
     ]
    }
   ],
   "source": [
    "agg_df=df.groupby('Country')['Sales'].sum().reset_index()\n",
    "print(\"\\nAggregation (Total Sales by Country): \")\n",
    "print(agg_df)"
   ]
  },
  {
   "cell_type": "code",
   "execution_count": 17,
   "id": "9fc401da-1436-4873-b744-590d66de76b6",
   "metadata": {},
   "outputs": [
    {
     "name": "stdout",
     "output_type": "stream",
     "text": [
      "\n",
      "Sort (Descending Sales): \n",
      "   ID      Name  Age    Country  Sales Name_Upper\n",
      "3   4   Tirthak   19  Australia    800    TIRTHAK\n",
      "1   2    Aditya   20      India    400     ADITYA\n",
      "5   6  Vishakha   23         UK    350   VISHAKHA\n",
      "2   3    Deepak   22        USA    300     DEEPAK\n",
      "0   1      Arya   21         UK    200       ARYA\n",
      "4   5      Riya   18     Canada    150       RIYA\n"
     ]
    }
   ],
   "source": [
    "sorted_df=df.sort_values(by='Sales', ascending =False)\n",
    "print(\"\\nSort (Descending Sales): \")\n",
    "print(sorted_df)"
   ]
  },
  {
   "cell_type": "code",
   "execution_count": 20,
   "id": "4100ba5d-7330-4e15-ac80-b003725c718d",
   "metadata": {},
   "outputs": [
    {
     "name": "stdout",
     "output_type": "stream",
     "text": [
      "\n",
      "Derived Column (Sales Category): \n",
      "   ID      Name  Sales Sales_Category\n",
      "0   1      Arya    200            Low\n",
      "1   2    Aditya    400           High\n",
      "2   3    Deepak    300            Low\n",
      "3   4   Tirthak    800           High\n",
      "4   5      Riya    150            Low\n",
      "5   6  Vishakha    350           High\n"
     ]
    }
   ],
   "source": [
    "df['Sales_Category'] =df['Sales'].apply(lambda x: 'High' if x> 300 else 'Low')\n",
    "print(\"\\nDerived Column (Sales Category): \")\n",
    "print(df[['ID', 'Name' , 'Sales' , 'Sales_Category']])"
   ]
  },
  {
   "cell_type": "code",
   "execution_count": null,
   "id": "8ac28938-4d1f-4590-8590-ccdab2cb9787",
   "metadata": {},
   "outputs": [],
   "source": []
  }
 ],
 "metadata": {
  "kernelspec": {
   "display_name": "Python 3 (ipykernel)",
   "language": "python",
   "name": "python3"
  },
  "language_info": {
   "codemirror_mode": {
    "name": "ipython",
    "version": 3
   },
   "file_extension": ".py",
   "mimetype": "text/x-python",
   "name": "python",
   "nbconvert_exporter": "python",
   "pygments_lexer": "ipython3",
   "version": "3.12.7"
  }
 },
 "nbformat": 4,
 "nbformat_minor": 5
}
